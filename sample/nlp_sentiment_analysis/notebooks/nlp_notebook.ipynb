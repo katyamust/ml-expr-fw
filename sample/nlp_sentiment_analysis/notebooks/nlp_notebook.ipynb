{
 "cells": [
  {
   "cell_type": "markdown",
   "metadata": {},
   "source": [
    "# NLP Sentiment Analysis Experimentation notebook"
   ]
  },
  {
   "cell_type": "markdown",
   "metadata": {},
   "source": [
    "##### Jupyter helpers:"
   ]
  },
  {
   "cell_type": "code",
   "execution_count": 1,
   "metadata": {},
   "outputs": [],
   "source": [
    "%reload_ext autoreload\n",
    "%autoreload"
   ]
  },
  {
   "cell_type": "markdown",
   "metadata": {},
   "source": [
    "Define imports"
   ]
  },
  {
   "cell_type": "code",
   "execution_count": 2,
   "metadata": {},
   "outputs": [
    {
     "name": "stderr",
     "output_type": "stream",
     "text": [
      "/Users/katyamust/anaconda3/envs/cont_review/lib/python3.7/site-packages/nltk/decorators.py:68: DeprecationWarning: `formatargspec` is deprecated since Python 3.5. Use `signature` and the `Signature` object directly\n",
      "  regargs, varargs, varkwargs, defaults, formatvalue=lambda value: \"\"\n",
      "/Users/katyamust/anaconda3/envs/cont_review/lib/python3.7/site-packages/nltk/lm/counter.py:15: DeprecationWarning: Using or importing the ABCs from 'collections' instead of from 'collections.abc' is deprecated since Python 3.3,and in 3.9 it will stop working\n",
      "  from collections import Sequence, defaultdict\n"
     ]
    }
   ],
   "source": [
    "\n",
    "from src.data import DataLoader\n",
    "from src.models import SentimentClassifier\n",
    "from src.data_processing import DataProcessor\n",
    "from src.data_processing.text import SpacyTextProcessor\n",
    "from src.experimentation import MlflowExperimentation\n",
    "from src.evaluation import Evaluator, EvaluationMetrics\n"
   ]
  },
  {
   "cell_type": "markdown",
   "metadata": {},
   "source": [
    "## Load data\n",
    "*replace MyDataLoader with your DataLoader implementation*"
   ]
  },
  {
   "cell_type": "code",
   "execution_count": 3,
   "metadata": {},
   "outputs": [],
   "source": [
    "from src.data import NLPSampleDataLoader\n",
    "\n",
    "data_loader = NLPSampleDataLoader(\"imdb\", 1.0)\n",
    "data_loader.download_dataset()\n",
    "imdb_df_train, imdb_df_test = data_loader.get_dataset()\n",
    "\n",
    "X_train, y_train = imdb_df_train['text'], imdb_df_train['label']\n",
    "X_test, y_test = imdb_df_test['text'], imdb_df_test['label']"
   ]
  },
  {
   "cell_type": "markdown",
   "metadata": {
    "lines_to_next_cell": 0
   },
   "source": [
    "Define experimentation object, which will be used for logging the experiments parameters, metrics and artifacts\n",
    "*Replace MlflowExperimentation if you use a different experimentation system*"
   ]
  },
  {
   "cell_type": "code",
   "execution_count": null,
   "metadata": {},
   "outputs": [],
   "source": []
  },
  {
   "cell_type": "markdown",
   "metadata": {
    "lines_to_next_cell": 0
   },
   "source": [
    "Create preprocessor for handling data preprocessing, feature engineering etc."
   ]
  },
  {
   "cell_type": "code",
   "execution_count": 4,
   "metadata": {},
   "outputs": [],
   "source": [
    "from src.data_processing.text import SpacyTextProcessor\n",
    "\n",
    "preprocessor = SpacyTextProcessor()"
   ]
  },
  {
   "cell_type": "markdown",
   "metadata": {
    "lines_to_next_cell": 0
   },
   "source": [
    "Create model/logic:"
   ]
  },
  {
   "cell_type": "code",
   "execution_count": 5,
   "metadata": {},
   "outputs": [],
   "source": [
    "my_model = SentimentClassifier(preprocessor = preprocessor)"
   ]
  },
  {
   "cell_type": "markdown",
   "metadata": {
    "lines_to_next_cell": 0
   },
   "source": [
    "Define evaluation"
   ]
  },
  {
   "cell_type": "code",
   "execution_count": 6,
   "metadata": {
    "lines_to_next_cell": 2
   },
   "outputs": [],
   "source": [
    "class MyEvaluator(Evaluator):\n",
    "    def evaluate(self, **kwargs) -> EvaluationMetrics:\n",
    "        pass\n",
    "\n",
    "evaluator = MyEvaluator()"
   ]
  },
  {
   "cell_type": "markdown",
   "metadata": {},
   "source": [
    "Run experiment"
   ]
  },
  {
   "cell_type": "code",
   "execution_count": 7,
   "metadata": {},
   "outputs": [],
   "source": [
    "from src.evaluation import EvaluationMetrics, Evaluator\n",
    "\n",
    "from sklearn.metrics import accuracy_score\n",
    "\n",
    "class NLPSampleEvaluationMetrics(EvaluationMetrics):\n",
    "    \"\"\"\n",
    "    Class to hold the actual values the evaluation created, e.g. precision, recall, MSE.\n",
    "    \"\"\"\n",
    "    def __init__(self, train_score, validation_score):\n",
    "        self.train_score = train_score\n",
    "        self.validation_score = validation_score\n",
    "        super().__init__()\n",
    "\n",
    "    def get_metrics(self):\n",
    "        return {\"train_score\": self.train_score, \"validation_score\": self.validation_score}\n",
    "    \n",
    "    def __repr__(self):\n",
    "        return f\"train_score: {self.train_score}, validation_score: {self.validation_score}\"\n",
    "\n",
    "\n",
    "class NLPSampleEvaluator(Evaluator):\n",
    "    \"\"\"\n",
    "    Class to hold the logic for how the model is evaluated.\n",
    "    \"\"\"\n",
    "    def __init__(self, exp_train_score, exp_validation_score):\n",
    "        \n",
    "        # Mock values. Real values are calculated in the evaluate method\n",
    "        self.exp_train_score = exp_train_score\n",
    "        self.exp_validation_score = exp_validation_score\n",
    "        super().__init__()\n",
    "\n",
    "    def evaluate(self, predicted, actual) -> NLPSampleEvaluationMetrics:\n",
    "        # This is where actual evaluation takes place. In the mock case it just returns constant values\n",
    "        \n",
    "        val_score = accuracy_score(actual, predicted)\n",
    "        return NLPSampleEvaluationMetrics(\n",
    "            train_score=2, validation_score=val_score\n",
    "        )\n",
    "\n",
    "\n",
    "evaluator = NLPSampleEvaluator(exp_train_score=0.5, exp_validation_score=0.7)\n"
   ]
  },
  {
   "cell_type": "code",
   "execution_count": 8,
   "metadata": {},
   "outputs": [],
   "source": [
    "mlflow_experimentation = MlflowExperimentation(tracking_uri=\"databricks\")"
   ]
  },
  {
   "cell_type": "code",
   "execution_count": 10,
   "metadata": {},
   "outputs": [
    {
     "name": "stdout",
     "output_type": "stream",
     "text": [
      "INFO: '/NewExpr' does not exist. Creating a new experiment\n",
      "Logging package in /Users/katyamust/anaconda3/envs/cont_review/lib/python3.7/site-packages/nlp_sentiment_analysis-0.1.0-py3.7.egg/src\n"
     ]
    },
    {
     "name": "stderr",
     "output_type": "stream",
     "text": [
      "200it [00:05, 38.15it/s]\n",
      "200it [00:05, 39.39it/s]\n"
     ]
    },
    {
     "name": "stdout",
     "output_type": "stream",
     "text": [
      "train_score: 2, validation_score: 0.765\n"
     ]
    }
   ],
   "source": [
    "from src import ExperimentRunner\n",
    "\n",
    "\n",
    "\n",
    "experiment_runner = ExperimentRunner(\n",
    "    model=my_model,\n",
    "    X_train=X_train,\n",
    "    y_train=y_train,\n",
    "    X_test=X_test,\n",
    "    y_test=y_test,\n",
    "    data_loader=data_loader,\n",
    "    log_experiment=True,\n",
    "    experiment_logger=mlflow_experimentation,\n",
    "    evaluator=evaluator,\n",
    "    experiment_name=\"/NewExpr\",\n",
    ")\n",
    "\n",
    "results = experiment_runner.run()\n",
    "print(results)\n"
   ]
  },
  {
   "cell_type": "code",
   "execution_count": null,
   "metadata": {},
   "outputs": [],
   "source": []
  }
 ],
 "metadata": {
  "jupytext": {
   "cell_metadata_filter": "-all",
   "main_language": "python",
   "notebook_metadata_filter": "-all"
  },
  "kernelspec": {
   "display_name": "Python 3",
   "language": "python",
   "name": "python3"
  },
  "language_info": {
   "codemirror_mode": {
    "name": "ipython",
    "version": 3
   },
   "file_extension": ".py",
   "mimetype": "text/x-python",
   "name": "python",
   "nbconvert_exporter": "python",
   "pygments_lexer": "ipython3",
   "version": "3.7.6"
  },
  "pycharm": {
   "stem_cell": {
    "cell_type": "raw",
    "source": [],
    "metadata": {
     "collapsed": false
    }
   }
  }
 },
 "nbformat": 4,
 "nbformat_minor": 4
}