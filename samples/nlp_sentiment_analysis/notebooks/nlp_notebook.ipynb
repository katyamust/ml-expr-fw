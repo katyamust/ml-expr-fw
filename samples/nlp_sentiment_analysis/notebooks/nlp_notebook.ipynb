{
 "cells": [
  {
   "cell_type": "markdown",
   "metadata": {},
   "source": [
    "# NLP sample: sentiment classifier experimentation notebook"
   ]
  },
  {
   "cell_type": "markdown",
   "metadata": {},
   "source": [
    "##### Jupyter helpers:"
   ]
  },
  {
   "cell_type": "code",
   "execution_count": null,
   "metadata": {},
   "outputs": [],
   "source": [
    "%reload_ext autoreload\n",
    "%autoreload"
   ]
  },
  {
   "cell_type": "markdown",
   "metadata": {},
   "source": [
    "## Define imports"
   ]
  },
  {
   "cell_type": "code",
   "execution_count": null,
   "metadata": {},
   "outputs": [],
   "source": [
    "\n",
    "from sentiment_analysis.data import NLPSampleDataLoader\n",
    "from sentiment_analysis.models import SentimentClassifier\n",
    "from sentiment_analysis.data_processing.text import SpacyTextProcessor\n",
    "from sentiment_analysis.experimentation import MlflowExperimentation\n",
    "from sentiment_analysis.evaluation import EvaluationMetrics, Evaluator\n",
    "from sentiment_analysis import ExperimentRunner\n",
    "from sklearn.metrics import accuracy_score\n"
   ]
  },
  {
   "cell_type": "markdown",
   "metadata": {},
   "source": [
    "## Load data\n",
    "*class NLPSampleDataLoader implements DataLoader api*"
   ]
  },
  {
   "cell_type": "code",
   "execution_count": null,
   "metadata": {},
   "outputs": [],
   "source": [
    "data_loader = NLPSampleDataLoader(\"imdb\", 1.0)\n",
    "data_loader.download_dataset()\n",
    "imdb_df_train, imdb_df_test = data_loader.get_dataset()\n",
    "\n",
    "X_train, y_train = imdb_df_train['text'], imdb_df_train['label']\n",
    "X_test, y_test = imdb_df_test['text'], imdb_df_test['label']"
   ]
  },
  {
   "cell_type": "markdown",
   "metadata": {},
   "source": [
    "## Create Model"
   ]
  },
  {
   "cell_type": "markdown",
   "metadata": {
    "lines_to_next_cell": 0
   },
   "source": [
    "*1. Create or reuse preprocessor for handling data preprocessing, feature engineering etc.*"
   ]
  },
  {
   "cell_type": "code",
   "execution_count": null,
   "metadata": {},
   "outputs": [],
   "source": [
    "\n",
    "preprocessor = SpacyTextProcessor()"
   ]
  },
  {
   "cell_type": "markdown",
   "metadata": {
    "lines_to_next_cell": 0
   },
   "source": [
    "*2. Create model/logic:*"
   ]
  },
  {
   "cell_type": "code",
   "execution_count": null,
   "metadata": {},
   "outputs": [],
   "source": [
    "my_model = SentimentClassifier(preprocessor = preprocessor)"
   ]
  },
  {
   "cell_type": "markdown",
   "metadata": {
    "lines_to_next_cell": 0
   },
   "source": [
    "## Define evaluation"
   ]
  },
  {
   "cell_type": "code",
   "execution_count": null,
   "metadata": {},
   "outputs": [],
   "source": [
    "\n",
    "class NLPSampleEvaluationMetrics(EvaluationMetrics):\n",
    "    \"\"\"\n",
    "    Class to hold the actual values the evaluation created, e.g. precision, recall, MSE.\n",
    "    \"\"\"\n",
    "    def __init__(self, validation_score):\n",
    "        self.validation_score = validation_score\n",
    "        super().__init__()\n",
    "\n",
    "    def get_metrics(self):\n",
    "        return {\"validation_score\": self.validation_score}\n",
    "    \n",
    "    def __repr__(self):\n",
    "        return f\"validation_score: {self.validation_score}\"\n",
    "\n",
    "\n",
    "class NLPSampleEvaluator(Evaluator):\n",
    "    \"\"\"\n",
    "    Class to hold the logic for how the model is evaluated.\n",
    "    \"\"\"\n",
    "    def __init__(self):\n",
    "        super().__init__()\n",
    "\n",
    "    def evaluate(self, predicted, actual) -> NLPSampleEvaluationMetrics:\n",
    "        # This is where actual evaluation takes place.\n",
    "        val_score = accuracy_score(actual, predicted)\n",
    "        return NLPSampleEvaluationMetrics(\n",
    "            validation_score=val_score\n",
    "        )\n",
    "\n",
    "\n",
    "evaluator = NLPSampleEvaluator()\n"
   ]
  },
  {
   "cell_type": "markdown",
   "metadata": {},
   "source": [
    "## Define experimentation\n",
    "Define experimentation object, which will be used for logging the experiments parameters, metrics and artifacts\n",
    "*Replace MlflowExperimentation if you use a different experimentation system*"
   ]
  },
  {
   "cell_type": "code",
   "execution_count": null,
   "metadata": {},
   "outputs": [],
   "source": [
    "mlflow_experimentation = MlflowExperimentation(tracking_uri=\"databricks\")"
   ]
  },
  {
   "cell_type": "markdown",
   "metadata": {},
   "source": [
    "## Run experiment"
   ]
  },
  {
   "cell_type": "code",
   "execution_count": null,
   "metadata": {},
   "outputs": [],
   "source": [
    "experiment_runner = ExperimentRunner(\n",
    "    model=my_model,\n",
    "    X_train=X_train,\n",
    "    y_train=y_train,\n",
    "    X_test=X_test,\n",
    "    y_test=y_test,\n",
    "    data_loader=data_loader,\n",
    "    log_experiment=True,\n",
    "    experiment_logger=mlflow_experimentation,\n",
    "    evaluator=evaluator,\n",
    "    experiment_name=\"/NewExpr\",\n",
    ")\n",
    "\n",
    "results = experiment_runner.run()\n",
    "print(results)\n"
   ]
  },
  {
   "cell_type": "code",
   "execution_count": null,
   "metadata": {},
   "outputs": [],
   "source": []
  }
 ],
 "metadata": {
  "jupytext": {
   "cell_metadata_filter": "-all",
   "main_language": "python",
   "notebook_metadata_filter": "-all"
  },
  "kernelspec": {
   "display_name": "Python 3",
   "language": "python",
   "name": "python3"
  },
  "language_info": {
   "codemirror_mode": {
    "name": "ipython",
    "version": 3
   },
   "file_extension": ".py",
   "mimetype": "text/x-python",
   "name": "python",
   "nbconvert_exporter": "python",
   "pygments_lexer": "ipython3",
   "version": "3.7.6"
  }
 },
 "nbformat": 4,
 "nbformat_minor": 4
}